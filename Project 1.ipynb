{
 "cells": [
  {
   "cell_type": "markdown",
   "id": "b94601a6",
   "metadata": {},
   "source": [
    "# Child Nution Calculator"
   ]
  },
  {
   "cell_type": "markdown",
   "id": "b33f1a5e",
   "metadata": {},
   "source": [
    "## Input Name, Age, Gender, Height and Weight"
   ]
  },
  {
   "cell_type": "code",
   "execution_count": 8,
   "id": "3df3fd25",
   "metadata": {},
   "outputs": [
    {
     "name": "stdout",
     "output_type": "stream",
     "text": [
      "Enter Name:Peter Parker\n",
      "Enter Age:7\n",
      "Enter Gender(male or female):male\n",
      "Enter height in inches:45\n",
      "Enter weight in pounds:60\n"
     ]
    }
   ],
   "source": [
    "Name=str(input(\"Enter Name:\"))\n",
    "Age=int(input(\"Enter Age:\"))\n",
    "Gender=str(input(\"Enter Gender(male or female):\"))\n",
    "height=int(input(\"Enter height in inches:\"))\n",
    "weight=int(input(\"Enter weight in pounds:\"))"
   ]
  },
  {
   "cell_type": "markdown",
   "id": "61def065",
   "metadata": {},
   "source": [
    "## Method for calculating total calorie consumption"
   ]
  },
  {
   "cell_type": "code",
   "execution_count": 9,
   "id": "3ab2a660",
   "metadata": {},
   "outputs": [],
   "source": [
    "def totalCal(milk,egg,rice,lentils,vegetables,meat):\n",
    "    caloriesOfMilk=(100/100)*milk\n",
    "    caloriesOfEgg=(155/100)*egg\n",
    "    caloriesOfRice=(130/100)*rice\n",
    "    caloriesOfLentils=(113/100)*lentils\n",
    "    caloriesOfVegetables=(85/100)*vegetables\n",
    "    caloriesOfMeat=(143/100)*meat\n",
    "    totalCalories=caloriesOfMilk+caloriesOfEgg+caloriesOfRice+caloriesOfLentils+caloriesOfVegetables+caloriesOfMeat\n",
    "    return totalCalories"
   ]
  },
  {
   "cell_type": "markdown",
   "id": "1d0bfeef",
   "metadata": {},
   "source": [
    "## Input to find the total intake of calories"
   ]
  },
  {
   "cell_type": "code",
   "execution_count": 10,
   "id": "72fe7975",
   "metadata": {},
   "outputs": [
    {
     "name": "stdout",
     "output_type": "stream",
     "text": [
      "Enter the amount you have consumed in grams\n",
      "Milk:300\n",
      "Vegetables:300\n",
      "Meat:200\n",
      "Lentils:100\n",
      "Egg:300\n",
      "Rice:300\n"
     ]
    }
   ],
   "source": [
    "print(\"Enter the amount of food the child has consumed in grams\")\n",
    "Milk=int(input(\"Milk:\"))\n",
    "Vegetables=int(input(\"Vegetables:\"))\n",
    "Meat=int(input(\"Meat:\"))\n",
    "Lentils=int(input(\"Lentils:\"))\n",
    "Egg=int(input(\"Egg:\"))\n",
    "Rice=int(input(\"Rice:\"))\n",
    "\n",
    "\n",
    "totalCalConsumption=totalCal(Milk,Egg,Rice,Lentils,Vegetables,Meat)"
   ]
  },
  {
   "cell_type": "markdown",
   "id": "abf53790",
   "metadata": {},
   "source": [
    "## Method for calculating BMI"
   ]
  },
  {
   "cell_type": "code",
   "execution_count": 11,
   "id": "fda15bd2",
   "metadata": {},
   "outputs": [],
   "source": [
    "def calBMI(Height,Weight):\n",
    "    result=Weight/(Height**2)*703\n",
    "    return result"
   ]
  },
  {
   "cell_type": "code",
   "execution_count": 12,
   "id": "d8ae2e93",
   "metadata": {},
   "outputs": [],
   "source": [
    "BMI=calBMI(height,weight)"
   ]
  },
  {
   "cell_type": "markdown",
   "id": "cedf70b2",
   "metadata": {},
   "source": [
    "## Printing Output"
   ]
  },
  {
   "cell_type": "code",
   "execution_count": 13,
   "id": "80402186",
   "metadata": {
    "scrolled": true
   },
   "outputs": [
    {
     "name": "stdout",
     "output_type": "stream",
     "text": [
      "\n",
      "Child Details:\n",
      "Name: Peter Parker\n",
      "Age: 7\n",
      "Gender: male\n",
      "Height: 45  inches\n",
      "Weight: 60  lb\n",
      "\n",
      "BMI of Peter Parker is  20.82962962962963  and he is Healthy\n",
      "\n",
      "The daily calorie consumption of Peter Parker is  1809.0  and he is not Undernourished\n"
     ]
    }
   ],
   "source": [
    "print(\"\\nChild Details:\")\n",
    "print(\"Name:\",Name)\n",
    "print(\"Age:\",Age)\n",
    "print(\"Gender:\",Gender)\n",
    "print(\"Height:\",height,\" inches\")\n",
    "print(\"Weight:\",weight,\" lb\")\n",
    "\n",
    "if(Gender == \"male\"):\n",
    "    if(BMI<16):\n",
    "        print(\"\\nBMI of \"+Name+\" is \",BMI,\" and he is Severely UnderWeight\")\n",
    "    elif(BMI>=16 and BMI<18.5):\n",
    "        print(\"\\nBMI of \"+Name+\" is \",BMI,\" and he is UnderWeight\")\n",
    "    elif(BMI>=18.5 and BMI<25):\n",
    "        print(\"\\nBMI of \"+Name+\" is \",BMI,\" and he is Healthy\")\n",
    "    elif(BMI>=25 and BMI<30):\n",
    "        print(\"\\nBMI of \"+Name+\" is \",BMI,\" and he is Overweight\")\n",
    "    else:\n",
    "        print(\"\\nBMI of \"+Name+\" is \",BMI,\" and he is Obese\")\n",
    "\n",
    "\n",
    "    if(Age>=0 and Age<2 and totalCalConsumption<800):\n",
    "        print(\"\\nThe daily calorie consumption of \"+Name+\" is \",totalCalConsumption,\" and he is Undernourished\")\n",
    "    elif(Age>=0 and Age<2 and totalCalConsumption>=800):\n",
    "        print(\"\\nThe daily calorie consumption of \"+Name+\" is \",totalCalConsumption,\" and he is not Undernourished\")\n",
    "    elif(Age>=2 and Age<4 and totalCalConsumption<1400):\n",
    "        print(\"\\nThe daily calorie consumption of \"+Name+\" is \",totalCalConsumption,\" and he is Undernourished\")\n",
    "    elif(Age>=2 and Age<4 and totalCalConsumption>=1400):\n",
    "        print(\"\\nThe daily calorie consumption of \"+Name+\" is \",totalCalConsumption,\" and he is not Undernourished\")\n",
    "    elif(Age>=4 and Age<8 and totalCalConsumption<1800):\n",
    "        print(\"\\nThe daily calorie consumption of \"+Name+\" is \",totalCalConsumption,\" and he is Undernourished\")\n",
    "    elif(Age>=4 and Age<8 and totalCalConsumption>=1800):\n",
    "        print(\"\\nThe daily calorie consumption of \"+Name+\" is \",totalCalConsumption,\" and he is not Undernourished\")\n",
    "\n",
    "\n",
    "elif(Gender == \"female\"):\n",
    "    if(BMI<16):\n",
    "        print(\"\\nBMI of \"+Name+\" is \",BMI,\" and she is Severely UnderWeight\")\n",
    "    elif(BMI>=16 and BMI<18.5):\n",
    "        print(\"\\nBMI of \"+Name+\" is \",BMI,\" and she is UnderWeight\")\n",
    "    elif(BMI>=18.5 and BMI<25):\n",
    "        print(\"\\nBMI of \"+Name+\" is \",BMI,\" and she is Healthy\")\n",
    "    elif(BMI>=25 and BMI<30):\n",
    "        print(\"\\nBMI of \"+Name+\" is \",BMI,\" and she is Overweight\")\n",
    "    else:\n",
    "        print(\"\\nBMI of \"+Name+\" is \",BMI,\" and she is Obese\")\n",
    "\n",
    "\n",
    "    if(Age>=0 and Age<2 and totalCalConsumption<800):\n",
    "        print(\"\\nThe daily calorie consumption of \"+Name+\" is \",totalCalConsumption,\" and she is Undernourished\")\n",
    "    elif(Age>=0 and Age<2 and totalCalConsumption>=800):\n",
    "        print(\"\\nThe daily calorie consumption of \"+Name+\" is \",totalCalConsumption,\" and she is not Undernourished\")\n",
    "    elif(Age>=2 and Age<4 and totalCalConsumption<1400):\n",
    "        print(\"\\nThe daily calorie consumption of \"+Name+\" is \",totalCalConsumption,\" and she is Undernourished\")\n",
    "    elif(Age>=2 and Age<4 and totalCalConsumption>=1400):\n",
    "        print(\"\\nThe daily calorie consumption of \"+Name+\" is \",totalCalConsumption,\" and she is not Undernourished\")\n",
    "    elif(Age>=4 and Age<8 and totalCalConsumption<1800):\n",
    "        print(\"\\nThe daily calorie consumption of \"+Name+\" is \",totalCalConsumption,\" and she is Undernourished\")\n",
    "    elif(Age>=4 and Age<8 and totalCalConsumption>=1800):\n",
    "        print(\"\\nThe daily calorie consumption of \"+Name+\" is \",totalCalConsumption,\" and she is not Undernourished\")\n",
    " "
   ]
  }
 ],
 "metadata": {
  "kernelspec": {
   "display_name": "Python 3 (ipykernel)",
   "language": "python",
   "name": "python3"
  },
  "language_info": {
   "codemirror_mode": {
    "name": "ipython",
    "version": 3
   },
   "file_extension": ".py",
   "mimetype": "text/x-python",
   "name": "python",
   "nbconvert_exporter": "python",
   "pygments_lexer": "ipython3",
   "version": "3.9.7"
  }
 },
 "nbformat": 4,
 "nbformat_minor": 5
}
